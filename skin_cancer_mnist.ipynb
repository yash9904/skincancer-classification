{
 "cells": [
  {
   "cell_type": "markdown",
   "metadata": {},
   "source": [
    "## Skin Cancer Classification\n",
    "\n",
    "#### The dataset is taken from [kaggle](https://www.kaggle.com/kmader/skin-cancer-mnist-ham10000)"
   ]
  },
  {
   "cell_type": "markdown",
   "metadata": {},
   "source": [
    "#### Importing required Libraries"
   ]
  },
  {
   "cell_type": "code",
   "execution_count": 1,
   "metadata": {},
   "outputs": [],
   "source": [
    "import numpy as np\n",
    "import pandas as pd\n",
    "from sklearn.model_selection import train_test_split\n",
    "import matplotlib.pyplot as plt\n",
    "import seaborn as sns\n",
    "sns.set()\n",
    "import tensorflow as tf\n",
    "from tensorflow.keras.layers import Conv2D, Flatten, Dense, MaxPooling2D, Dropout\n",
    "from tensorflow.keras.models import Model\n",
    "from tensorflow.keras.optimizers import RMSprop"
   ]
  },
  {
   "cell_type": "markdown",
   "metadata": {},
   "source": [
    "#### Importing the data"
   ]
  },
  {
   "cell_type": "code",
   "execution_count": 2,
   "metadata": {},
   "outputs": [
    {
     "data": {
      "text/html": [
       "<div>\n",
       "<style scoped>\n",
       "    .dataframe tbody tr th:only-of-type {\n",
       "        vertical-align: middle;\n",
       "    }\n",
       "\n",
       "    .dataframe tbody tr th {\n",
       "        vertical-align: top;\n",
       "    }\n",
       "\n",
       "    .dataframe thead th {\n",
       "        text-align: right;\n",
       "    }\n",
       "</style>\n",
       "<table border=\"1\" class=\"dataframe\">\n",
       "  <thead>\n",
       "    <tr style=\"text-align: right;\">\n",
       "      <th></th>\n",
       "      <th>pixel0000</th>\n",
       "      <th>pixel0001</th>\n",
       "      <th>pixel0002</th>\n",
       "      <th>pixel0003</th>\n",
       "      <th>pixel0004</th>\n",
       "      <th>pixel0005</th>\n",
       "      <th>pixel0006</th>\n",
       "      <th>pixel0007</th>\n",
       "      <th>pixel0008</th>\n",
       "      <th>pixel0009</th>\n",
       "      <th>...</th>\n",
       "      <th>pixel2343</th>\n",
       "      <th>pixel2344</th>\n",
       "      <th>pixel2345</th>\n",
       "      <th>pixel2346</th>\n",
       "      <th>pixel2347</th>\n",
       "      <th>pixel2348</th>\n",
       "      <th>pixel2349</th>\n",
       "      <th>pixel2350</th>\n",
       "      <th>pixel2351</th>\n",
       "      <th>label</th>\n",
       "    </tr>\n",
       "  </thead>\n",
       "  <tbody>\n",
       "    <tr>\n",
       "      <th>0</th>\n",
       "      <td>192</td>\n",
       "      <td>153</td>\n",
       "      <td>193</td>\n",
       "      <td>195</td>\n",
       "      <td>155</td>\n",
       "      <td>192</td>\n",
       "      <td>197</td>\n",
       "      <td>154</td>\n",
       "      <td>185</td>\n",
       "      <td>202</td>\n",
       "      <td>...</td>\n",
       "      <td>173</td>\n",
       "      <td>124</td>\n",
       "      <td>138</td>\n",
       "      <td>183</td>\n",
       "      <td>147</td>\n",
       "      <td>166</td>\n",
       "      <td>185</td>\n",
       "      <td>154</td>\n",
       "      <td>177</td>\n",
       "      <td>2</td>\n",
       "    </tr>\n",
       "    <tr>\n",
       "      <th>1</th>\n",
       "      <td>25</td>\n",
       "      <td>14</td>\n",
       "      <td>30</td>\n",
       "      <td>68</td>\n",
       "      <td>48</td>\n",
       "      <td>75</td>\n",
       "      <td>123</td>\n",
       "      <td>93</td>\n",
       "      <td>126</td>\n",
       "      <td>158</td>\n",
       "      <td>...</td>\n",
       "      <td>60</td>\n",
       "      <td>39</td>\n",
       "      <td>55</td>\n",
       "      <td>25</td>\n",
       "      <td>14</td>\n",
       "      <td>28</td>\n",
       "      <td>25</td>\n",
       "      <td>14</td>\n",
       "      <td>27</td>\n",
       "      <td>2</td>\n",
       "    </tr>\n",
       "    <tr>\n",
       "      <th>2</th>\n",
       "      <td>192</td>\n",
       "      <td>138</td>\n",
       "      <td>153</td>\n",
       "      <td>200</td>\n",
       "      <td>145</td>\n",
       "      <td>163</td>\n",
       "      <td>201</td>\n",
       "      <td>142</td>\n",
       "      <td>160</td>\n",
       "      <td>206</td>\n",
       "      <td>...</td>\n",
       "      <td>167</td>\n",
       "      <td>129</td>\n",
       "      <td>143</td>\n",
       "      <td>159</td>\n",
       "      <td>124</td>\n",
       "      <td>142</td>\n",
       "      <td>136</td>\n",
       "      <td>104</td>\n",
       "      <td>117</td>\n",
       "      <td>2</td>\n",
       "    </tr>\n",
       "    <tr>\n",
       "      <th>3</th>\n",
       "      <td>38</td>\n",
       "      <td>19</td>\n",
       "      <td>30</td>\n",
       "      <td>95</td>\n",
       "      <td>59</td>\n",
       "      <td>72</td>\n",
       "      <td>143</td>\n",
       "      <td>103</td>\n",
       "      <td>119</td>\n",
       "      <td>171</td>\n",
       "      <td>...</td>\n",
       "      <td>44</td>\n",
       "      <td>26</td>\n",
       "      <td>36</td>\n",
       "      <td>25</td>\n",
       "      <td>12</td>\n",
       "      <td>17</td>\n",
       "      <td>25</td>\n",
       "      <td>12</td>\n",
       "      <td>15</td>\n",
       "      <td>2</td>\n",
       "    </tr>\n",
       "    <tr>\n",
       "      <th>4</th>\n",
       "      <td>158</td>\n",
       "      <td>113</td>\n",
       "      <td>139</td>\n",
       "      <td>194</td>\n",
       "      <td>144</td>\n",
       "      <td>174</td>\n",
       "      <td>215</td>\n",
       "      <td>162</td>\n",
       "      <td>191</td>\n",
       "      <td>225</td>\n",
       "      <td>...</td>\n",
       "      <td>209</td>\n",
       "      <td>166</td>\n",
       "      <td>185</td>\n",
       "      <td>172</td>\n",
       "      <td>135</td>\n",
       "      <td>149</td>\n",
       "      <td>109</td>\n",
       "      <td>78</td>\n",
       "      <td>92</td>\n",
       "      <td>2</td>\n",
       "    </tr>\n",
       "  </tbody>\n",
       "</table>\n",
       "<p>5 rows × 2353 columns</p>\n",
       "</div>"
      ],
      "text/plain": [
       "   pixel0000  pixel0001  pixel0002  pixel0003  pixel0004  pixel0005  \\\n",
       "0        192        153        193        195        155        192   \n",
       "1         25         14         30         68         48         75   \n",
       "2        192        138        153        200        145        163   \n",
       "3         38         19         30         95         59         72   \n",
       "4        158        113        139        194        144        174   \n",
       "\n",
       "   pixel0006  pixel0007  pixel0008  pixel0009  ...  pixel2343  pixel2344  \\\n",
       "0        197        154        185        202  ...        173        124   \n",
       "1        123         93        126        158  ...         60         39   \n",
       "2        201        142        160        206  ...        167        129   \n",
       "3        143        103        119        171  ...         44         26   \n",
       "4        215        162        191        225  ...        209        166   \n",
       "\n",
       "   pixel2345  pixel2346  pixel2347  pixel2348  pixel2349  pixel2350  \\\n",
       "0        138        183        147        166        185        154   \n",
       "1         55         25         14         28         25         14   \n",
       "2        143        159        124        142        136        104   \n",
       "3         36         25         12         17         25         12   \n",
       "4        185        172        135        149        109         78   \n",
       "\n",
       "   pixel2351  label  \n",
       "0        177      2  \n",
       "1         27      2  \n",
       "2        117      2  \n",
       "3         15      2  \n",
       "4         92      2  \n",
       "\n",
       "[5 rows x 2353 columns]"
      ]
     },
     "execution_count": 2,
     "metadata": {},
     "output_type": "execute_result"
    }
   ],
   "source": [
    "raw_data = pd.read_csv('scmnist\\hmnist_28_28_RGB.csv')\n",
    "raw_data.head()"
   ]
  },
  {
   "cell_type": "markdown",
   "metadata": {},
   "source": [
    "##### Creating a checkpoint"
   ]
  },
  {
   "cell_type": "code",
   "execution_count": 3,
   "metadata": {},
   "outputs": [],
   "source": [
    "data = raw_data.copy()"
   ]
  },
  {
   "cell_type": "markdown",
   "metadata": {},
   "source": [
    "#### Data Preprocessing"
   ]
  },
  {
   "cell_type": "code",
   "execution_count": 4,
   "metadata": {},
   "outputs": [
    {
     "data": {
      "text/plain": [
       "0"
      ]
     },
     "execution_count": 4,
     "metadata": {},
     "output_type": "execute_result"
    }
   ],
   "source": [
    "data.isna().sum().sum()"
   ]
  },
  {
   "cell_type": "markdown",
   "metadata": {},
   "source": [
    "No missing values found!!"
   ]
  },
  {
   "cell_type": "code",
   "execution_count": 5,
   "metadata": {},
   "outputs": [
    {
     "data": {
      "text/plain": [
       "4    6705\n",
       "6    1113\n",
       "2    1099\n",
       "1     514\n",
       "0     327\n",
       "5     142\n",
       "3     115\n",
       "Name: label, dtype: int64"
      ]
     },
     "execution_count": 5,
     "metadata": {},
     "output_type": "execute_result"
    }
   ],
   "source": [
    "data['label'].value_counts()"
   ]
  },
  {
   "cell_type": "code",
   "execution_count": 6,
   "metadata": {},
   "outputs": [],
   "source": [
    "label_map = { 0: 'akiec', 1: 'bcc', 2: 'bkl', 3: 'df', 4: 'nv', 5: 'vasc', 6: 'mel'}"
   ]
  },
  {
   "cell_type": "code",
   "execution_count": 7,
   "metadata": {},
   "outputs": [],
   "source": [
    "X = np.array(data.iloc[:, :-1]).reshape((data.shape[0], 28, 28, 3))\n",
    "X = X/255\n",
    "y = np.array(data['label'])"
   ]
  },
  {
   "cell_type": "code",
   "execution_count": 21,
   "metadata": {},
   "outputs": [
    {
     "data": {
      "image/png": "[encoded data removed]",
      "text/plain": [
       "<Figure size 432x288 with 1 Axes>"
      ]
     },
     "metadata": {
      "needs_background": "light"
     },
     "output_type": "display_data"
    }
   ],
   "source": [
    "fig0 = plt.figure()\n",
    "plt.imshow(X[0])\n",
    "plt.show()"
   ]
  },
  {
   "cell_type": "markdown",
   "metadata": {},
   "source": [
    "Let's split the data into training and testing sets"
   ]
  },
  {
   "cell_type": "code",
   "execution_count": 8,
   "metadata": {},
   "outputs": [],
   "source": [
    "X_train, X_test, y_train, y_test = train_test_split(X, y, test_size = 0.1, random_state = 10)"
   ]
  },
  {
   "cell_type": "markdown",
   "metadata": {},
   "source": [
    "#### Defining a Convolutional Neural Network Model for classification"
   ]
  },
  {
   "cell_type": "code",
   "execution_count": 9,
   "metadata": {},
   "outputs": [],
   "source": [
    "inputs = tf.keras.Input(shape = X_train[0].shape)\n",
    "\n",
    "x = Conv2D(32, (3, 3), activation = 'relu')(inputs)\n",
    "x = MaxPooling2D((2, 2))(x)\n",
    "x = Conv2D(64, (3, 3), activation = 'relu')(x)\n",
    "x = Dropout(0.2)(x)\n",
    "x = MaxPooling2D((2, 2))(x)\n",
    "x = Flatten()(x)\n",
    "x = Dense(32, activation = 'relu')(x)\n",
    "x = Dense(32, activation = 'relu')(x)\n",
    "output = Dense(7, activation = 'softmax')(x)\n",
    "\n",
    "model = Model(inputs, output)\n",
    "\n",
    "model.compile(optimizer = RMSprop(0.001), loss = 'sparse_categorical_crossentropy', metrics = ['accuracy'])"
   ]
  },
  {
   "cell_type": "code",
   "execution_count": 10,
   "metadata": {},
   "outputs": [],
   "source": [
    "class mycallback(tf.keras.callbacks.Callback):\n",
    "    def on_epoch_end(self, epochs, logs = {}):\n",
    "        if logs.get('accuracy') is not None:\n",
    "            if logs.get('accuracy') > 0.95:\n",
    "                print(r'Got 95% accuracy!! Stopping training!!')\n",
    "                self.model.stop_training = True"
   ]
  },
  {
   "cell_type": "markdown",
   "metadata": {},
   "source": [
    "##### Training the model"
   ]
  },
  {
   "cell_type": "code",
   "execution_count": 11,
   "metadata": {},
   "outputs": [
    {
     "name": "stdout",
     "output_type": "stream",
     "text": [
      "Epoch 1/20\n",
      "127/127 [==============================] - 42s 14ms/step - loss: 1.1178 - accuracy: 0.6610 - val_loss: 1.0001 - val_accuracy: 0.6796\n",
      "Epoch 2/20\n",
      "127/127 [==============================] - 1s 10ms/step - loss: 0.9636 - accuracy: 0.6727 - val_loss: 1.0558 - val_accuracy: 0.6929\n",
      "Epoch 3/20\n",
      "127/127 [==============================] - 2s 13ms/step - loss: 0.9089 - accuracy: 0.6813 - val_loss: 0.9044 - val_accuracy: 0.6863\n",
      "Epoch 4/20\n",
      "127/127 [==============================] - 2s 13ms/step - loss: 0.8831 - accuracy: 0.6935 - val_loss: 0.8512 - val_accuracy: 0.7095\n",
      "Epoch 5/20\n",
      "127/127 [==============================] - 2s 14ms/step - loss: 0.8605 - accuracy: 0.6950 - val_loss: 0.8405 - val_accuracy: 0.7062\n",
      "Epoch 6/20\n",
      "127/127 [==============================] - 2s 13ms/step - loss: 0.8315 - accuracy: 0.7025 - val_loss: 0.8717 - val_accuracy: 0.6951\n",
      "Epoch 7/20\n",
      "127/127 [==============================] - 2s 14ms/step - loss: 0.8055 - accuracy: 0.7051 - val_loss: 0.8560 - val_accuracy: 0.6984\n",
      "Epoch 8/20\n",
      "127/127 [==============================] - 2s 14ms/step - loss: 0.7831 - accuracy: 0.7141 - val_loss: 0.7838 - val_accuracy: 0.7084\n",
      "Epoch 9/20\n",
      "127/127 [==============================] - 2s 14ms/step - loss: 0.7640 - accuracy: 0.7196 - val_loss: 0.8103 - val_accuracy: 0.7118\n",
      "Epoch 10/20\n",
      "127/127 [==============================] - 2s 14ms/step - loss: 0.7424 - accuracy: 0.7267 - val_loss: 0.7645 - val_accuracy: 0.7228\n",
      "Epoch 11/20\n",
      "127/127 [==============================] - 2s 14ms/step - loss: 0.7260 - accuracy: 0.7331 - val_loss: 0.7558 - val_accuracy: 0.7295\n",
      "Epoch 12/20\n",
      "127/127 [==============================] - 2s 14ms/step - loss: 0.7107 - accuracy: 0.7364 - val_loss: 0.7327 - val_accuracy: 0.7306\n",
      "Epoch 13/20\n",
      "127/127 [==============================] - 2s 14ms/step - loss: 0.6967 - accuracy: 0.7422 - val_loss: 0.8369 - val_accuracy: 0.7095\n",
      "Epoch 14/20\n",
      "127/127 [==============================] - 2s 14ms/step - loss: 0.6873 - accuracy: 0.7516 - val_loss: 0.7433 - val_accuracy: 0.7195\n",
      "Epoch 15/20\n",
      "127/127 [==============================] - 2s 14ms/step - loss: 0.6754 - accuracy: 0.7500 - val_loss: 0.7367 - val_accuracy: 0.7339\n",
      "Epoch 16/20\n",
      "127/127 [==============================] - 2s 14ms/step - loss: 0.6634 - accuracy: 0.7528 - val_loss: 0.7105 - val_accuracy: 0.7284\n",
      "Epoch 17/20\n",
      "127/127 [==============================] - 2s 14ms/step - loss: 0.6485 - accuracy: 0.7600 - val_loss: 0.7344 - val_accuracy: 0.7239\n",
      "Epoch 18/20\n",
      "127/127 [==============================] - 2s 14ms/step - loss: 0.6413 - accuracy: 0.7607 - val_loss: 0.7053 - val_accuracy: 0.7361\n",
      "Epoch 19/20\n",
      "127/127 [==============================] - 2s 14ms/step - loss: 0.6351 - accuracy: 0.7625 - val_loss: 0.7315 - val_accuracy: 0.7373\n",
      "Epoch 20/20\n",
      "127/127 [==============================] - 2s 14ms/step - loss: 0.6196 - accuracy: 0.7656 - val_loss: 0.7140 - val_accuracy: 0.7317\n"
     ]
    }
   ],
   "source": [
    "history = model.fit(X_train, y_train, epochs = 20, validation_split = 0.1, batch_size = 64, verbose = 1, callbacks = [mycallback()])\n",
    "hist  = pd.DataFrame(history.history)\n",
    "hist['epoch'] = history.epoch"
   ]
  },
  {
   "cell_type": "code",
   "execution_count": 12,
   "metadata": {},
   "outputs": [
    {
     "name": "stdout",
     "output_type": "stream",
     "text": [
      "32/32 [==============================] - 0s 8ms/step - loss: 0.6875 - accuracy: 0.7605\n"
     ]
    }
   ],
   "source": [
    "test_results = model.evaluate(X_test, y_test)"
   ]
  },
  {
   "cell_type": "markdown",
   "metadata": {},
   "source": [
    "#### Results on the Testing data"
   ]
  },
  {
   "cell_type": "code",
   "execution_count": 13,
   "metadata": {},
   "outputs": [
    {
     "name": "stdout",
     "output_type": "stream",
     "text": [
      "Test Loss: 0.6874808669090271\n",
      "Test Accuracy: 0.7604790329933167\n"
     ]
    }
   ],
   "source": [
    "print(f'Test Loss: {test_results[0]}')\n",
    "print(f'Test Accuracy: {test_results[1]}')"
   ]
  },
  {
   "cell_type": "code",
   "execution_count": 14,
   "metadata": {},
   "outputs": [
    {
     "data": {
      "text/html": [
       "<div>\n",
       "<style scoped>\n",
       "    .dataframe tbody tr th:only-of-type {\n",
       "        vertical-align: middle;\n",
       "    }\n",
       "\n",
       "    .dataframe tbody tr th {\n",
       "        vertical-align: top;\n",
       "    }\n",
       "\n",
       "    .dataframe thead th {\n",
       "        text-align: right;\n",
       "    }\n",
       "</style>\n",
       "<table border=\"1\" class=\"dataframe\">\n",
       "  <thead>\n",
       "    <tr style=\"text-align: right;\">\n",
       "      <th></th>\n",
       "      <th>loss</th>\n",
       "      <th>accuracy</th>\n",
       "      <th>val_loss</th>\n",
       "      <th>val_accuracy</th>\n",
       "      <th>epoch</th>\n",
       "    </tr>\n",
       "  </thead>\n",
       "  <tbody>\n",
       "    <tr>\n",
       "      <th>0</th>\n",
       "      <td>1.117829</td>\n",
       "      <td>0.660954</td>\n",
       "      <td>1.000089</td>\n",
       "      <td>0.679601</td>\n",
       "      <td>0</td>\n",
       "    </tr>\n",
       "    <tr>\n",
       "      <th>1</th>\n",
       "      <td>0.963617</td>\n",
       "      <td>0.672667</td>\n",
       "      <td>1.055841</td>\n",
       "      <td>0.692905</td>\n",
       "      <td>1</td>\n",
       "    </tr>\n",
       "    <tr>\n",
       "      <th>2</th>\n",
       "      <td>0.908912</td>\n",
       "      <td>0.681297</td>\n",
       "      <td>0.904440</td>\n",
       "      <td>0.686253</td>\n",
       "      <td>2</td>\n",
       "    </tr>\n",
       "    <tr>\n",
       "      <th>3</th>\n",
       "      <td>0.883108</td>\n",
       "      <td>0.693503</td>\n",
       "      <td>0.851205</td>\n",
       "      <td>0.709534</td>\n",
       "      <td>3</td>\n",
       "    </tr>\n",
       "    <tr>\n",
       "      <th>4</th>\n",
       "      <td>0.860467</td>\n",
       "      <td>0.694982</td>\n",
       "      <td>0.840493</td>\n",
       "      <td>0.706208</td>\n",
       "      <td>4</td>\n",
       "    </tr>\n",
       "    <tr>\n",
       "      <th>5</th>\n",
       "      <td>0.831493</td>\n",
       "      <td>0.702503</td>\n",
       "      <td>0.871720</td>\n",
       "      <td>0.695122</td>\n",
       "      <td>5</td>\n",
       "    </tr>\n",
       "    <tr>\n",
       "      <th>6</th>\n",
       "      <td>0.805488</td>\n",
       "      <td>0.705092</td>\n",
       "      <td>0.856029</td>\n",
       "      <td>0.698448</td>\n",
       "      <td>6</td>\n",
       "    </tr>\n",
       "    <tr>\n",
       "      <th>7</th>\n",
       "      <td>0.783106</td>\n",
       "      <td>0.714092</td>\n",
       "      <td>0.783780</td>\n",
       "      <td>0.708426</td>\n",
       "      <td>7</td>\n",
       "    </tr>\n",
       "    <tr>\n",
       "      <th>8</th>\n",
       "      <td>0.763959</td>\n",
       "      <td>0.719640</td>\n",
       "      <td>0.810299</td>\n",
       "      <td>0.711752</td>\n",
       "      <td>8</td>\n",
       "    </tr>\n",
       "    <tr>\n",
       "      <th>9</th>\n",
       "      <td>0.742401</td>\n",
       "      <td>0.726667</td>\n",
       "      <td>0.764451</td>\n",
       "      <td>0.722838</td>\n",
       "      <td>9</td>\n",
       "    </tr>\n",
       "    <tr>\n",
       "      <th>10</th>\n",
       "      <td>0.726042</td>\n",
       "      <td>0.733079</td>\n",
       "      <td>0.755821</td>\n",
       "      <td>0.729490</td>\n",
       "      <td>10</td>\n",
       "    </tr>\n",
       "    <tr>\n",
       "      <th>11</th>\n",
       "      <td>0.710715</td>\n",
       "      <td>0.736407</td>\n",
       "      <td>0.732677</td>\n",
       "      <td>0.730599</td>\n",
       "      <td>11</td>\n",
       "    </tr>\n",
       "    <tr>\n",
       "      <th>12</th>\n",
       "      <td>0.696728</td>\n",
       "      <td>0.742202</td>\n",
       "      <td>0.836933</td>\n",
       "      <td>0.709534</td>\n",
       "      <td>12</td>\n",
       "    </tr>\n",
       "    <tr>\n",
       "      <th>13</th>\n",
       "      <td>0.687282</td>\n",
       "      <td>0.751572</td>\n",
       "      <td>0.743274</td>\n",
       "      <td>0.719512</td>\n",
       "      <td>13</td>\n",
       "    </tr>\n",
       "    <tr>\n",
       "      <th>14</th>\n",
       "      <td>0.675427</td>\n",
       "      <td>0.749969</td>\n",
       "      <td>0.736711</td>\n",
       "      <td>0.733925</td>\n",
       "      <td>14</td>\n",
       "    </tr>\n",
       "    <tr>\n",
       "      <th>15</th>\n",
       "      <td>0.663393</td>\n",
       "      <td>0.752805</td>\n",
       "      <td>0.710484</td>\n",
       "      <td>0.728381</td>\n",
       "      <td>15</td>\n",
       "    </tr>\n",
       "    <tr>\n",
       "      <th>16</th>\n",
       "      <td>0.648540</td>\n",
       "      <td>0.759956</td>\n",
       "      <td>0.734373</td>\n",
       "      <td>0.723947</td>\n",
       "      <td>16</td>\n",
       "    </tr>\n",
       "    <tr>\n",
       "      <th>17</th>\n",
       "      <td>0.641333</td>\n",
       "      <td>0.760695</td>\n",
       "      <td>0.705256</td>\n",
       "      <td>0.736142</td>\n",
       "      <td>17</td>\n",
       "    </tr>\n",
       "    <tr>\n",
       "      <th>18</th>\n",
       "      <td>0.635145</td>\n",
       "      <td>0.762545</td>\n",
       "      <td>0.731526</td>\n",
       "      <td>0.737251</td>\n",
       "      <td>18</td>\n",
       "    </tr>\n",
       "    <tr>\n",
       "      <th>19</th>\n",
       "      <td>0.619551</td>\n",
       "      <td>0.765627</td>\n",
       "      <td>0.713950</td>\n",
       "      <td>0.731707</td>\n",
       "      <td>19</td>\n",
       "    </tr>\n",
       "  </tbody>\n",
       "</table>\n",
       "</div>"
      ],
      "text/plain": [
       "        loss  accuracy  val_loss  val_accuracy  epoch\n",
       "0   1.117829  0.660954  1.000089      0.679601      0\n",
       "1   0.963617  0.672667  1.055841      0.692905      1\n",
       "2   0.908912  0.681297  0.904440      0.686253      2\n",
       "3   0.883108  0.693503  0.851205      0.709534      3\n",
       "4   0.860467  0.694982  0.840493      0.706208      4\n",
       "5   0.831493  0.702503  0.871720      0.695122      5\n",
       "6   0.805488  0.705092  0.856029      0.698448      6\n",
       "7   0.783106  0.714092  0.783780      0.708426      7\n",
       "8   0.763959  0.719640  0.810299      0.711752      8\n",
       "9   0.742401  0.726667  0.764451      0.722838      9\n",
       "10  0.726042  0.733079  0.755821      0.729490     10\n",
       "11  0.710715  0.736407  0.732677      0.730599     11\n",
       "12  0.696728  0.742202  0.836933      0.709534     12\n",
       "13  0.687282  0.751572  0.743274      0.719512     13\n",
       "14  0.675427  0.749969  0.736711      0.733925     14\n",
       "15  0.663393  0.752805  0.710484      0.728381     15\n",
       "16  0.648540  0.759956  0.734373      0.723947     16\n",
       "17  0.641333  0.760695  0.705256      0.736142     17\n",
       "18  0.635145  0.762545  0.731526      0.737251     18\n",
       "19  0.619551  0.765627  0.713950      0.731707     19"
      ]
     },
     "execution_count": 14,
     "metadata": {},
     "output_type": "execute_result"
    }
   ],
   "source": [
    "hist"
   ]
  },
  {
   "cell_type": "code",
   "execution_count": 15,
   "metadata": {},
   "outputs": [
    {
     "data": {
      "image/png": "[encoded data removed]",
      "text/plain": [
       "<Figure size 432x288 with 1 Axes>"
      ]
     },
     "metadata": {
      "needs_background": "light"
     },
     "output_type": "display_data"
    }
   ],
   "source": [
    "plt.figure()\n",
    "plt.plot(hist['loss'])\n",
    "plt.plot(hist['val_loss'],)\n",
    "plt.legend((\"train\" , \"valid\") , loc =0)\n",
    "plt.show()"
   ]
  },
  {
   "cell_type": "code",
   "execution_count": 16,
   "metadata": {},
   "outputs": [],
   "source": [
    "y_pred = model.predict(X_test)"
   ]
  },
  {
   "cell_type": "code",
   "execution_count": 17,
   "metadata": {},
   "outputs": [
    {
     "data": {
      "text/plain": [
       "['nv', 'nv', 'mel', 'mel', 'nv']"
      ]
     },
     "execution_count": 17,
     "metadata": {},
     "output_type": "execute_result"
    }
   ],
   "source": [
    "pred_labels = np.argmax(y_pred, axis = -1)\n",
    "pred_labels = [label_map[i] for i in pred_labels]\n",
    "pred_labels[:5]"
   ]
  },
  {
   "cell_type": "code",
   "execution_count": 18,
   "metadata": {},
   "outputs": [
    {
     "data": {
      "text/plain": [
       "['mel', 'nv', 'mel', 'mel', 'nv']"
      ]
     },
     "execution_count": 18,
     "metadata": {},
     "output_type": "execute_result"
    }
   ],
   "source": [
    "test_labels = [label_map[i] for i in y_test]\n",
    "test_labels[:5]"
   ]
  },
  {
   "cell_type": "code",
   "execution_count": 19,
   "metadata": {},
   "outputs": [
    {
     "data": {
      "image/png": "[encoded data removed]",
      "text/plain": [
       "<Figure size 720x540 with 2 Axes>"
      ]
     },
     "metadata": {
      "needs_background": "light"
     },
     "output_type": "display_data"
    }
   ],
   "source": [
    "from sklearn.metrics import confusion_matrix\n",
    "fig1 = plt.figure(figsize = (10, 7.5))\n",
    "labels = list(label_map.values())\n",
    "sns.heatmap(confusion_matrix(test_labels, pred_labels, labels = labels), cmap = 'summer', annot = True, fmt = 'd',\n",
    "                                xticklabels = labels, yticklabels = labels)\n",
    "plt.title('Confusion Matrix', fontsize = 30)\n",
    "plt.xlabel('Predictions', fontsize = 20)\n",
    "plt.ylabel('Actual Values', fontsize = 20)\n",
    "plt.show()"
   ]
  },
  {
   "cell_type": "markdown",
   "metadata": {},
   "source": [
    "The model doesn't seem to do well in classifying 'df' and 'vasc'. This may be due to the small amount of data we provided for it"
   ]
  }
 ],
 "metadata": {
  "interpreter": {
   "hash": "6f7c4d44365b28014734406e4d617c1e1f76ea196def854c7b951a230f6e24f1"
  },
  "kernelspec": {
   "display_name": "Python 3.9.5 64-bit",
   "language": "python",
   "name": "python3"
  },
  "language_info": {
   "codemirror_mode": {
    "name": "ipython",
    "version": 3
   },
   "file_extension": ".py",
   "mimetype": "text/x-python",
   "name": "python",
   "nbconvert_exporter": "python",
   "pygments_lexer": "ipython3",
   "version": "3.7.3"
  },
  "orig_nbformat": 4
 },
 "nbformat": 4,
 "nbformat_minor": 2
}
